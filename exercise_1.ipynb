{
 "cells": [
  {
   "cell_type": "markdown",
   "metadata": {},
   "source": [
    "<img src=\"images/oasis-lmf-colour.png\" alt=\"Oasis LMF logo\" width=\"250\" align=\"left\"/>\n",
    "<br><br><br>\n",
    "\n",
    "# Exercise 1:   Exposure data in OED\n",
    "\n",
    "The Oasis platform imports exposure data in OED format (Open Exposure Data). This is a completely open data format maintained by Modex. The full specification can be found [here](https://github.com/Simplitium/OED/). A subset of this information is given inline in the exercise. Later in the workshop we will be using the GEM Dominican Republic Earthquake model, so in this exercise we will construct some appropriate exposure data."
   ]
  },
  {
   "cell_type": "code",
   "execution_count": null,
   "metadata": {},
   "outputs": [],
   "source": [
    "# Enable intellisense\n",
    "%config IPCompleter.greedy=True\n",
    "\n",
    "# General imports\n",
    "import pandas as pd\n",
    "import numpy as np\n",
    "import os\n",
    "import shutil\n",
    "import jupyter_helper\n",
    "jupyter_helper.set_style()\n",
    "\n",
    "# Suppress warnings and logging that clutter the output\n",
    "import logging\n",
    "logger = logging.getLogger()\n",
    "logger.disabled = True\n",
    "import warnings\n",
    "warnings.filterwarnings(\"ignore\")"
   ]
  },
  {
   "cell_type": "markdown",
   "metadata": {},
   "source": [
    "### Locations, accounts and policies\n",
    "\n",
    "The set of location fields that we will use in this exercise are:\n",
    "\n",
    "| Input Field Name | Type & Description | Required Field | Data Type   | Default |\n",
    "|:---------------- | ------------------ | -------------- | ----------- | ------- |\n",
    "| PortNumber\t   | Portfolio number\t| R\t             | varchar(20) | n/a     |\n",
    "| AccNumber\t       | Account number\t    | R\t             | nvarchar(40)| n/a     |\n",
    "| LocNumber\t       | Location number\t| R\t             | nvarchar(20)| n/a     |\n",
    "| AreaName\t       | Name relating to the AreaCode (e.g. State name) | O | nvarchar(50) | n/a |\n",
    "| GeogName1\t       | Descriptor of the geographical area | O | nvarchar(50) | n/a |\n",
    "| Latitude\t       | Latitude in degrees (-90.0 to +90.0) |\tO |\tdecimal\t| 0 |\n",
    "| Longitude\t       | Longitude in degrees (-180.0 to +180.0) | O | decimal | 0 |\n",
    "| CountryCode\t   | Country code (based on ISO3166 alpha-2 codes) | R | char(2) | n/a |\t\n",
    "| BuildingTIV\t   | Building Total Insured Value | R | float\t| n/a |\n",
    "| OccupancyCode\t   | OED occupancy code\t| O | int | 1000 |\n",
    "| ConstructionCode | OED construction code | O |int | 5000 |\n",
    "| NumberOfStoreys  | Number of storeys | O | tinyint | 0 |\n",
    "| LocPerilsCovered | The perils covered by the location | R | varchar(250) | n/a |\n",
    "\n",
    "\n",
    "A basic set of occupancy and construction codes are:\n",
    "\n",
    "| OED Code | AIR Code |\tOccupancy Name |\n",
    "|:---------|----------|----------------|\n",
    "| 1000     | 300\t  | Unknown        |\n",
    "| 1050\t   | 301\t  | Residential, General residential |\n",
    "| 1100\t   | 311\t  | Commercial, General commercial   |\n",
    "| 1150\t   | 321\t  | Industrial, General industrial   |\n",
    "\n",
    "| OED Code | AIR Code |\tConstruction Name |\n",
    "|:---------|----------|-------------------|\n",
    "| 5000     | 100      | Unknown           |\n",
    "| 5050     | 101      | Wood, Wood frame  |\n",
    "| 5100     | 111      | Masonry, Masonry  |\n",
    "| 5101     | 112      | Masonry, Adobe    |\n",
    "| 5102     | 131      | Concrete, Reinforced concrete |\n",
    "\n",
    "The set of account fields that we will use are:\n",
    "\n",
    "| Input Field Name | Type & Description | Required Field | Data Type   | Default |\n",
    "|:---------------- | ------------------ | -------------- | ----------- | ------- |\n",
    "| PortNumber\t   | Portfolio number\t| R\t             | varchar(20) | n/a |\n",
    "| AccNumber\t       | Account number\t    | R\t             | nvarchar(40)| n/a |\n",
    "| AccPeril\t       | Perils for account financial terms\t| CR | varchar(250) |\tn/a |\n",
    "| PolNumber\t       | Policy layer number | R             | varchar(20) | n/a |\n",
    "| LayerNumber\t   | Layer number\t    | O | int | 1 | \n",
    "| LayerParticipation | Insurance company share of the policy layer (values between 0 and 1) | O | float | 1 |\n",
    "| LayerLimit\t   | Policy layer limit\t| O | float | 0 |\n",
    "| LayerAttachment | Policy layer attachment point | O | float | 0 |"
   ]
  },
  {
   "cell_type": "code",
   "execution_count": null,
   "metadata": {
    "scrolled": true
   },
   "outputs": [],
   "source": [
    "!pip uninstall -y oasislmf && pip install git+ssh://git@github.com/OasisLMF/OasisLMF.git@develop#egg=oasislmf"
   ]
  },
  {
   "cell_type": "markdown",
   "metadata": {},
   "source": [
    "Create two accounts with the following schedules. \n",
    "\n",
    "**The schedule data has started being filled out in the data-frames below, but with the occupancy and constructions classes set to unknown. Please complete the schedule for Account 2 by entering the correct occupancy and construction classes.**\n",
    "\n",
    "### Account 1\n",
    "\n",
    "Policy 1: 100% of 25000 xs 25000\n",
    "Policy 2: 50% of 25000 xs 50000\n",
    "\n",
    "| Municipality | Province | Latitude | Longitude | Construction | Occupancy | NumberOfStoreys | Building value |\n",
    "|--|--|--|--|--|--|--|--|\n",
    "| Pedro Brand | Santo Domingo | 18.64788 | -70.09339 | Wood frame | Residential | 1 | 100000 |\n",
    "| Sabana Grande de Boyá | Monte Plata | 18.9582 | -69.85408 | Masonry | Residential | 3 | 25000 |\n",
    "| Santa Cruz de Barahona | Barahona | 18.22769 | -71.1752 | Masonry | Residential | 1 | 27000 |\n",
    "\n",
    "### Account 2\n",
    "\n",
    "Policy 1: 100% of 25000 xs 25000\n",
    "Policy 2: 50% of 25000 xs 50000\n",
    "\n",
    "| Municipality | Province | Latitude | Longitude | Construction | Occupancy | NumberOfStoreys | Building value |\n",
    "|--|--|--|--|--|--|--|--|\n",
    "| Villa Vázquez | Monte Cristi | 19.8079 | -71.44 | Adobe | Commercial | 1 | 33000 |\n",
    "| Guayubín | Monte Cristi | 19.73665 | -71.29112 | Adobe | Commercial | 1 | 38400 |\n",
    "| Cabrera | María Trinidad Sánchez | 19.60861 | -69.97794 | Masonry |Commercial | 2 | 67200 |"
   ]
  },
  {
   "cell_type": "code",
   "execution_count": null,
   "metadata": {},
   "outputs": [],
   "source": [
    "locations_df = pd.DataFrame.from_dict({\n",
    "    'PortNumber':           ['1', '1', '1', '1', '1', '1'],\n",
    "    'AccNumber':            ['1', '1', '1', '2', '2', '2'],\n",
    "    'LocNumber':            ['1', '2', '3', '4', '5', '6'],\n",
    "    'GeogName':             ['Pedro Brand', 'Sabana Grande de Boyá', 'Santa Cruz de Barahona', 'Villa Vázquez', 'Guayubín', 'Cabrera'],\n",
    "    'AreaName1':            ['Santa Domingo', 'Monte Plata', 'Barahona', 'Monte Cristi', 'Monte Cristi', 'María Trinidad Sánchez'],\n",
    "    'Latitude':             [18.64788, 18.9582, 18.22769, 19.8079, 19.73665, 19.60861],\n",
    "    'Longitude':            [-70.09339, -69.85408, -71.1752, -71.44, -71.29112, -69.97794],\n",
    "    'CountryCode':          ['DR', 'DR', 'DR', 'DR', 'DR', 'DR'],\n",
    "    'ConstructionCode':     [5000, 5000, 5100, 5000, 5000, 5000],\n",
    "    'OccupancyCode':        [1000, 1000, 1000, 1000, 1000, 1000],\n",
    "    'NumberOfStoreys':      [1, 3, 1, 1, 1, 2],\n",
    "    'BuildingTIV':          [100000, 25000, 27000, 33000, 38400, 67300],\n",
    "    'LocPerilsCovered':     ['QEQ', 'QEQ', 'QEQ', 'QEQ', 'QEQ', 'QEQ'],\n",
    "    'LocCurrency':          ['','','','','','']\n",
    " })  \n",
    " \n",
    "accounts_df = pd.DataFrame.from_dict({\n",
    "    'PortNumber':           ['1',     '1',     '1',    '1'     ],\n",
    "    'AccNumber':            ['1',     '1',     '2',    '2'     ],\n",
    "    'PolNumber':            ['1',     '2',     '3',    '4'     ],\n",
    "    'LayerAttachment':      [25000,   50000,   25000,  50000   ],\n",
    "    'LayerLimit':           [25000,   25000,   25000,  25000   ],\n",
    "    'LayerParticipation':   [1.0,     1.0,     1.0,    1.0     ],\n",
    "    'PolPerilsCovered':     ['QEQ',   'QEQ',   'QEQ',  'QEQ'],\n",
    "    'AccCurrency':          ['','','','']\n",
    "})  "
   ]
  },
  {
   "cell_type": "code",
   "execution_count": null,
   "metadata": {
    "scrolled": true
   },
   "outputs": [],
   "source": [
    "# Export the exposure data to file\n",
    "src_dir = '/tmp/exercise_1_oed'\n",
    "if os.path.exists(src_dir):\n",
    "    shutil.rmtree(src_dir)\n",
    "os.mkdir(src_dir)\n",
    "\n",
    "run_dir = '/tmp/exercise_1_run'\n",
    "if os.path.exists(run_dir):\n",
    "    shutil.rmtree(run_dir)\n",
    "os.mkdir(run_dir)\n",
    "\n",
    "locations_df.to_csv(\n",
    "    os.path.join(src_dir, \"location.csv\"),\n",
    "    index=False\n",
    ")\n",
    "accounts_df.to_csv(\n",
    "    os.path.join(src_dir, \"account.csv\"),\n",
    "    index=False\n",
    ")"
   ]
  },
  {
   "cell_type": "code",
   "execution_count": null,
   "metadata": {},
   "outputs": [],
   "source": [
    "# Run a deterministic analysis of the exposure files\n",
    "! oasislmf exposure run -s /tmp/exercise_1_oed"
   ]
  },
  {
   "cell_type": "code",
   "execution_count": null,
   "metadata": {},
   "outputs": [],
   "source": [
    "# List out the available options\n",
    "! oasislmf exposure run --help"
   ]
  },
  {
   "cell_type": "markdown",
   "metadata": {},
   "source": [
    "In particular, you can vary the loss percentage and output granularity. \n",
    "\n",
    "**Try entering 0.8 loss percentage and 'loc' for the output granularity and re-run the analysis.**\n",
    "\n",
    "**Then try entering your own values and re-run the analysis.**"
   ]
  },
  {
   "cell_type": "code",
   "execution_count": null,
   "metadata": {},
   "outputs": [],
   "source": [
    "! oasislmf exposure run -s /tmp/exercise_1_oed -l 0.5 -o loc"
   ]
  },
  {
   "cell_type": "markdown",
   "metadata": {},
   "source": [
    "### Reinsurance\n",
    "\n",
    "Reinsurance is specified using two files, ri_info and ri_scope. Broadly, the former specifies the contract terms and the latter specifies what risks are covered. The set of ri_info fields that we will use in this exercise are:\n",
    "\n",
    "| Input Field Name | Type & Description | Required Field | Data Type   | Default |\n",
    "|:---------------- | ------------------ | -------------- | ----------- | ------- |\n",
    "| ReinsNumber |\tReinsurance number | R | int | n/a |\n",
    "| RiskLimit\t| Reinsurance per-risk limit | O | float | 0 |\n",
    "| RiskAttachment | Reinsurance per-risk attachment point | O | float | 0 |\n",
    "| OccLimit | Reinsurance occurrence limit | O | float | 0 |\n",
    "| OccAttachment\t| Reinsurance per occurrence attachment\t| O | float |YES | 0 |\n",
    "| PlacedPercent\t| Percentage of the limit that has been placed in the reinsurance market. | R |\tfloat | n/a |\n",
    "| InuringPriority |\tReinsurance inuring priority capturing the order in which reinsurance contracts apply. | R\t| tinyint |\tn/a |\n",
    "| ReinsType\t| Type of reinsurance contract | R | | varchar(3) | NO | n/a |\n",
    "\n",
    "The set of ri_scope fields that we will use in this exercise are:\n",
    "\n",
    "| Input Field Name | Type & Description | Required Field | Data Type   | Default |\n",
    "|:---------------- | ------------------ | -------------- | ----------- | ------- |\n",
    "| ReinsNumber | Reinsurance number to link with ReinsInfo file | R | int | n/a |\n",
    "| PortNumber | Portfolio number: used for defining treaty scope in the reinsurance scope file | CR | varchar(20) | n/a |\n",
    "| AccNumber | Account number: used for defining treaty scope in the reinsurance scope file\t| CR | nvarchar(40)\t| n/a |\n",
    "| PolNumber | Policy number: used for defining treaty scope in the reinsurance scope file | CR | varchar(20)\t| n/a |\n",
    "| LocNumber\t| Location number: used for defining treaty scope in the reinsurance scope file\t| CR | nvarchar(20) | n/a |\n",
    "| RiskLevel | Code to indicate the definition of 'risk' for the per-risk terms in this particular treaty | R | char(3) | n/a |\n",
    "\n",
    "\n",
    "\n",
    "\n",
    "\n"
   ]
  },
  {
   "cell_type": "markdown",
   "metadata": {},
   "source": [
    "The data below creates a location level fac treaty that inures to the benefit of a cat treaty. \n",
    "\n",
    "**Try out some different options. Other treaty types can also be created, as described in the OED documentation.**"
   ]
  },
  {
   "cell_type": "code",
   "execution_count": null,
   "metadata": {},
   "outputs": [],
   "source": [
    "ri_info_df = pd.DataFrame.from_dict({\n",
    "    \"ReinsNumber\":     [1,      2     ],\n",
    "    'RiskLimit':       [1000,   0     ],\n",
    "    'RiskAttachment':  [1000,   0     ],\n",
    "    'OccLimit':        [0,      1000  ],\n",
    "    'OccAttachment':   [0,      1000  ],\n",
    "    'PlacedPercent':   [1.0,    1.0   ],\n",
    "    'InuringPriority': [1,      2     ],\n",
    "    'ReinsType':       ['FAC',  'CXL' ]})\n",
    "\n",
    "ri_scope_df = pd.DataFrame.from_dict({\n",
    "    'ReinsNumber': [1,     2  ],\n",
    "    'PortNumber':  ['1',   '1'],\n",
    "    'AccNumber':   ['1',   '' ],\n",
    "    'PolNumber':   ['',    '' ],\n",
    "    'LocNumber':   ['1',   '' ],\n",
    "    'RiskLevel':   ['LOC', '' ]})\n",
    "    \n",
    "ri_info_df.to_csv(\n",
    "    os.path.join(src_dir, \"ri_info.csv\"), index=False\n",
    ")\n",
    "ri_scope_df.to_csv(\n",
    "    os.path.join(src_dir, \"ri_scope.csv\"), index=False\n",
    ")\n",
    "\n",
    "! oasislmf exposure run -s /tmp/exercise_1_oed -o acc -l 1.0"
   ]
  }
 ],
 "metadata": {
  "file_extension": ".py",
  "kernelspec": {
   "display_name": "Python 3",
   "language": "python",
   "name": "python3"
  },
  "language_info": {
   "codemirror_mode": {
    "name": "ipython",
    "version": 3
   },
   "file_extension": ".py",
   "mimetype": "text/x-python",
   "name": "python",
   "nbconvert_exporter": "python",
   "pygments_lexer": "ipython3",
   "version": "3.8.2"
  },
  "mimetype": "text/x-python",
  "name": "python",
  "npconvert_exporter": "python",
  "pygments_lexer": "ipython2",
  "version": 2
 },
 "nbformat": 4,
 "nbformat_minor": 2
}
